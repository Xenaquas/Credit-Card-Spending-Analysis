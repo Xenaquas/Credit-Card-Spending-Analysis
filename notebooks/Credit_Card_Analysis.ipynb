{
 "cells": [
  {
   "cell_type": "code",
   "execution_count": 9,
   "id": "584ef4b7-cb35-4b6b-befb-cbec25e567c8",
   "metadata": {},
   "outputs": [],
   "source": [
    "import numpy as np\n",
    "import pandas as pd"
   ]
  },
  {
   "cell_type": "code",
   "execution_count": 10,
   "id": "c7a92573-d002-43bb-9017-e46fd1244955",
   "metadata": {},
   "outputs": [
    {
     "data": {
      "text/html": [
       "<div>\n",
       "<style scoped>\n",
       "    .dataframe tbody tr th:only-of-type {\n",
       "        vertical-align: middle;\n",
       "    }\n",
       "\n",
       "    .dataframe tbody tr th {\n",
       "        vertical-align: top;\n",
       "    }\n",
       "\n",
       "    .dataframe thead th {\n",
       "        text-align: right;\n",
       "    }\n",
       "</style>\n",
       "<table border=\"1\" class=\"dataframe\">\n",
       "  <thead>\n",
       "    <tr style=\"text-align: right;\">\n",
       "      <th></th>\n",
       "      <th>index</th>\n",
       "      <th>City</th>\n",
       "      <th>Date</th>\n",
       "      <th>Card Type</th>\n",
       "      <th>Exp Type</th>\n",
       "      <th>Gender</th>\n",
       "      <th>Amount</th>\n",
       "    </tr>\n",
       "  </thead>\n",
       "  <tbody>\n",
       "    <tr>\n",
       "      <th>0</th>\n",
       "      <td>0</td>\n",
       "      <td>Delhi, India</td>\n",
       "      <td>29-Oct-14</td>\n",
       "      <td>Gold</td>\n",
       "      <td>Bills</td>\n",
       "      <td>F</td>\n",
       "      <td>82475</td>\n",
       "    </tr>\n",
       "    <tr>\n",
       "      <th>1</th>\n",
       "      <td>1</td>\n",
       "      <td>Greater Mumbai, India</td>\n",
       "      <td>22-Aug-14</td>\n",
       "      <td>Platinum</td>\n",
       "      <td>Bills</td>\n",
       "      <td>F</td>\n",
       "      <td>32555</td>\n",
       "    </tr>\n",
       "    <tr>\n",
       "      <th>2</th>\n",
       "      <td>2</td>\n",
       "      <td>Bengaluru, India</td>\n",
       "      <td>27-Aug-14</td>\n",
       "      <td>Silver</td>\n",
       "      <td>Bills</td>\n",
       "      <td>F</td>\n",
       "      <td>101738</td>\n",
       "    </tr>\n",
       "    <tr>\n",
       "      <th>3</th>\n",
       "      <td>3</td>\n",
       "      <td>Greater Mumbai, India</td>\n",
       "      <td>12-Apr-14</td>\n",
       "      <td>Signature</td>\n",
       "      <td>Bills</td>\n",
       "      <td>F</td>\n",
       "      <td>123424</td>\n",
       "    </tr>\n",
       "    <tr>\n",
       "      <th>4</th>\n",
       "      <td>4</td>\n",
       "      <td>Bengaluru, India</td>\n",
       "      <td>5-May-15</td>\n",
       "      <td>Gold</td>\n",
       "      <td>Bills</td>\n",
       "      <td>F</td>\n",
       "      <td>171574</td>\n",
       "    </tr>\n",
       "  </tbody>\n",
       "</table>\n",
       "</div>"
      ],
      "text/plain": [
       "   index                   City       Date  Card Type Exp Type Gender  Amount\n",
       "0      0           Delhi, India  29-Oct-14       Gold    Bills      F   82475\n",
       "1      1  Greater Mumbai, India  22-Aug-14   Platinum    Bills      F   32555\n",
       "2      2       Bengaluru, India  27-Aug-14     Silver    Bills      F  101738\n",
       "3      3  Greater Mumbai, India  12-Apr-14  Signature    Bills      F  123424\n",
       "4      4       Bengaluru, India   5-May-15       Gold    Bills      F  171574"
      ]
     },
     "execution_count": 10,
     "metadata": {},
     "output_type": "execute_result"
    }
   ],
   "source": [
    "df = pd.read_csv(r\"A:\\GithuB\\Credit Card Spending Analysis\\data\\Credit card transactions.csv\")\n",
    "df.head()"
   ]
  },
  {
   "cell_type": "code",
   "execution_count": null,
   "id": "c1b23503-26cc-4f01-9a14-61585d69db9b",
   "metadata": {},
   "outputs": [],
   "source": []
  },
  {
   "cell_type": "code",
   "execution_count": 11,
   "id": "650d8998-ec18-4439-a27a-93e67c1cccca",
   "metadata": {},
   "outputs": [
    {
     "data": {
      "text/plain": [
       "(26052, 7)"
      ]
     },
     "execution_count": 11,
     "metadata": {},
     "output_type": "execute_result"
    }
   ],
   "source": [
    "df.shape"
   ]
  },
  {
   "cell_type": "code",
   "execution_count": null,
   "id": "6b081f90-89cf-4919-a055-4ce206fffa6b",
   "metadata": {},
   "outputs": [],
   "source": []
  },
  {
   "cell_type": "code",
   "execution_count": 12,
   "id": "0060f833-2ce8-4131-bbbf-45a3f1a0e94a",
   "metadata": {},
   "outputs": [
    {
     "name": "stdout",
     "output_type": "stream",
     "text": [
      "<class 'pandas.core.frame.DataFrame'>\n",
      "RangeIndex: 26052 entries, 0 to 26051\n",
      "Data columns (total 7 columns):\n",
      " #   Column     Non-Null Count  Dtype \n",
      "---  ------     --------------  ----- \n",
      " 0   index      26052 non-null  int64 \n",
      " 1   City       26052 non-null  object\n",
      " 2   Date       26052 non-null  object\n",
      " 3   Card Type  26052 non-null  object\n",
      " 4   Exp Type   26052 non-null  object\n",
      " 5   Gender     26052 non-null  object\n",
      " 6   Amount     26052 non-null  int64 \n",
      "dtypes: int64(2), object(5)\n",
      "memory usage: 1.4+ MB\n"
     ]
    }
   ],
   "source": [
    "df.info()"
   ]
  },
  {
   "cell_type": "code",
   "execution_count": null,
   "id": "95fda672-8384-4cec-bf2a-d7cafb29a35b",
   "metadata": {},
   "outputs": [],
   "source": []
  },
  {
   "cell_type": "code",
   "execution_count": 13,
   "id": "69dc7ed2-c982-4ce3-97fd-4bb2b3081f21",
   "metadata": {},
   "outputs": [
    {
     "data": {
      "text/html": [
       "<div>\n",
       "<style scoped>\n",
       "    .dataframe tbody tr th:only-of-type {\n",
       "        vertical-align: middle;\n",
       "    }\n",
       "\n",
       "    .dataframe tbody tr th {\n",
       "        vertical-align: top;\n",
       "    }\n",
       "\n",
       "    .dataframe thead th {\n",
       "        text-align: right;\n",
       "    }\n",
       "</style>\n",
       "<table border=\"1\" class=\"dataframe\">\n",
       "  <thead>\n",
       "    <tr style=\"text-align: right;\">\n",
       "      <th></th>\n",
       "      <th>index</th>\n",
       "      <th>Amount</th>\n",
       "    </tr>\n",
       "  </thead>\n",
       "  <tbody>\n",
       "    <tr>\n",
       "      <th>count</th>\n",
       "      <td>26052.000000</td>\n",
       "      <td>26052.000000</td>\n",
       "    </tr>\n",
       "    <tr>\n",
       "      <th>mean</th>\n",
       "      <td>13025.500000</td>\n",
       "      <td>156411.537425</td>\n",
       "    </tr>\n",
       "    <tr>\n",
       "      <th>std</th>\n",
       "      <td>7520.708943</td>\n",
       "      <td>103063.254287</td>\n",
       "    </tr>\n",
       "    <tr>\n",
       "      <th>min</th>\n",
       "      <td>0.000000</td>\n",
       "      <td>1005.000000</td>\n",
       "    </tr>\n",
       "    <tr>\n",
       "      <th>25%</th>\n",
       "      <td>6512.750000</td>\n",
       "      <td>77120.250000</td>\n",
       "    </tr>\n",
       "    <tr>\n",
       "      <th>50%</th>\n",
       "      <td>13025.500000</td>\n",
       "      <td>153106.500000</td>\n",
       "    </tr>\n",
       "    <tr>\n",
       "      <th>75%</th>\n",
       "      <td>19538.250000</td>\n",
       "      <td>228050.000000</td>\n",
       "    </tr>\n",
       "    <tr>\n",
       "      <th>max</th>\n",
       "      <td>26051.000000</td>\n",
       "      <td>998077.000000</td>\n",
       "    </tr>\n",
       "  </tbody>\n",
       "</table>\n",
       "</div>"
      ],
      "text/plain": [
       "              index         Amount\n",
       "count  26052.000000   26052.000000\n",
       "mean   13025.500000  156411.537425\n",
       "std     7520.708943  103063.254287\n",
       "min        0.000000    1005.000000\n",
       "25%     6512.750000   77120.250000\n",
       "50%    13025.500000  153106.500000\n",
       "75%    19538.250000  228050.000000\n",
       "max    26051.000000  998077.000000"
      ]
     },
     "execution_count": 13,
     "metadata": {},
     "output_type": "execute_result"
    }
   ],
   "source": [
    "df.describe()"
   ]
  },
  {
   "cell_type": "code",
   "execution_count": null,
   "id": "4aac00da-78c0-497d-b61b-7d352a720793",
   "metadata": {},
   "outputs": [],
   "source": []
  },
  {
   "cell_type": "code",
   "execution_count": 14,
   "id": "df1b894e-b298-4f05-98cb-78322360cb75",
   "metadata": {},
   "outputs": [
    {
     "data": {
      "text/plain": [
       "index        0\n",
       "City         0\n",
       "Date         0\n",
       "Card Type    0\n",
       "Exp Type     0\n",
       "Gender       0\n",
       "Amount       0\n",
       "dtype: int64"
      ]
     },
     "execution_count": 14,
     "metadata": {},
     "output_type": "execute_result"
    }
   ],
   "source": [
    "df.isnull().sum()"
   ]
  },
  {
   "cell_type": "code",
   "execution_count": null,
   "id": "40c38d43-361a-44d7-965c-f765e0da7ba5",
   "metadata": {},
   "outputs": [],
   "source": []
  },
  {
   "cell_type": "code",
   "execution_count": 15,
   "id": "860872e5-0641-4582-90c9-106ae70ef3b6",
   "metadata": {},
   "outputs": [
    {
     "data": {
      "text/plain": [
       "np.int64(0)"
      ]
     },
     "execution_count": 15,
     "metadata": {},
     "output_type": "execute_result"
    }
   ],
   "source": [
    "df.duplicated().sum()"
   ]
  },
  {
   "cell_type": "code",
   "execution_count": null,
   "id": "41c3d845-faae-4a61-b3e8-bcd4ee60fcdc",
   "metadata": {},
   "outputs": [],
   "source": []
  },
  {
   "cell_type": "markdown",
   "id": "33776e20-bcd1-42ed-bcdb-4b8ac684489a",
   "metadata": {},
   "source": [
    "## Data Cleaning & Preprocessing"
   ]
  },
  {
   "cell_type": "code",
   "execution_count": 16,
   "id": "d4b18262-c311-4e17-860c-b37ad056ad4e",
   "metadata": {},
   "outputs": [],
   "source": [
    "# Convert the 'Date' to Date time\n",
    "df['Date'] = pd.to_datetime(df['Date'], format=\"%d-%b-%y\", errors='coerce')"
   ]
  },
  {
   "cell_type": "code",
   "execution_count": 17,
   "id": "01c81108-3371-4e31-98fb-941b1a97915b",
   "metadata": {},
   "outputs": [],
   "source": [
    "# Strip whitespaces & standardize columns\n",
    "df['City'] = df['City'].str.strip()\n",
    "df['Card Type'] = df['Card Type'].str.strip()\n",
    "df['Exp Type'] = df['Exp Type'].str.strip()"
   ]
  },
  {
   "cell_type": "code",
   "execution_count": null,
   "id": "d07d67cf-3aa8-4742-ad53-656066e76645",
   "metadata": {},
   "outputs": [],
   "source": []
  },
  {
   "cell_type": "code",
   "execution_count": 18,
   "id": "3eba4657-cba8-4a67-86f4-219911ca46b1",
   "metadata": {},
   "outputs": [
    {
     "data": {
      "text/plain": [
       "index        0\n",
       "City         0\n",
       "Date         0\n",
       "Card Type    0\n",
       "Exp Type     0\n",
       "Gender       0\n",
       "Amount       0\n",
       "dtype: int64"
      ]
     },
     "execution_count": 18,
     "metadata": {},
     "output_type": "execute_result"
    }
   ],
   "source": [
    "df.isnull().sum()"
   ]
  },
  {
   "cell_type": "code",
   "execution_count": null,
   "id": "73896f7f-b01b-45aa-bf05-1b9f1ea80d97",
   "metadata": {},
   "outputs": [],
   "source": []
  },
  {
   "cell_type": "code",
   "execution_count": null,
   "id": "5297201c-f49e-4164-89c9-9ed2acbbc8f1",
   "metadata": {},
   "outputs": [],
   "source": []
  },
  {
   "cell_type": "markdown",
   "id": "c488d0fc-d3fc-43f1-83ad-437f93092b49",
   "metadata": {},
   "source": [
    "## Exploratory Data Analysis"
   ]
  },
  {
   "cell_type": "code",
   "execution_count": 19,
   "id": "308de420-78df-4a2e-a833-f737654f186a",
   "metadata": {},
   "outputs": [],
   "source": [
    "import warnings\n",
    "warnings.filterwarnings('ignore')"
   ]
  },
  {
   "cell_type": "code",
   "execution_count": 20,
   "id": "b83e1f1f-a026-4642-b55a-1619071a86d9",
   "metadata": {},
   "outputs": [
    {
     "ename": "ModuleNotFoundError",
     "evalue": "No module named 'seaborn'",
     "output_type": "error",
     "traceback": [
      "\u001b[1;31m---------------------------------------------------------------------------\u001b[0m",
      "\u001b[1;31mModuleNotFoundError\u001b[0m                       Traceback (most recent call last)",
      "Cell \u001b[1;32mIn[20], line 1\u001b[0m\n\u001b[1;32m----> 1\u001b[0m \u001b[38;5;28;01mimport\u001b[39;00m \u001b[38;5;21;01mseaborn\u001b[39;00m \u001b[38;5;28;01mas\u001b[39;00m \u001b[38;5;21;01msns\u001b[39;00m\n\u001b[0;32m      2\u001b[0m \u001b[38;5;28;01mimport\u001b[39;00m \u001b[38;5;21;01mmatplotlib\u001b[39;00m\u001b[38;5;21;01m.\u001b[39;00m\u001b[38;5;21;01mpyplot\u001b[39;00m \u001b[38;5;28;01mas\u001b[39;00m \u001b[38;5;21;01mplt\u001b[39;00m\n",
      "\u001b[1;31mModuleNotFoundError\u001b[0m: No module named 'seaborn'"
     ]
    }
   ],
   "source": [
    "import seaborn as sns\n",
    "import matplotlib.pyplot as plt"
   ]
  },
  {
   "cell_type": "code",
   "execution_count": null,
   "id": "3a3d3d7b-1175-4e47-b2d3-d55a06e45caa",
   "metadata": {},
   "outputs": [],
   "source": [
    "sns.histplot(data=df, x='Amount', bins=50, kde=True)\n",
    "plt.title(\"Transaction Amount Distribution\")\n",
    "plt.xlabel(\"Transaction Amount\")\n",
    "plt.ylabel(\"Count of Transactions\")\n",
    "plt.show()"
   ]
  },
  {
   "cell_type": "code",
   "execution_count": null,
   "id": "d7785e3c-a524-4c39-a5ab-9358676c275c",
   "metadata": {},
   "outputs": [],
   "source": []
  },
  {
   "cell_type": "code",
   "execution_count": null,
   "id": "a51b15ba-852b-4643-a8f3-293a246cde85",
   "metadata": {},
   "outputs": [],
   "source": [
    "## Time Series Transactions\n",
    "df['YearMonth'] = df['Date'].dt.to_period('M')\n",
    "monthly_trend = df.groupby('YearMonth')['Amount'].sum()\n",
    "monthly_trend"
   ]
  },
  {
   "cell_type": "code",
   "execution_count": null,
   "id": "2a055b89-ff4f-42cd-8ef0-ae52fa98c4b9",
   "metadata": {},
   "outputs": [],
   "source": []
  },
  {
   "cell_type": "code",
   "execution_count": null,
   "id": "67c8516f-fa8b-4336-b790-a8807cb437e7",
   "metadata": {
    "scrolled": true
   },
   "outputs": [],
   "source": [
    "monthly_trend.plot(title=\"Time Series of Transactions\")\n",
    "plt.ylabel('Amount')\n",
    "plt.show()"
   ]
  },
  {
   "cell_type": "code",
   "execution_count": null,
   "id": "73a3b4d2-3af9-4bc6-b7aa-2c6bed695c51",
   "metadata": {},
   "outputs": [],
   "source": []
  },
  {
   "cell_type": "code",
   "execution_count": null,
   "id": "7deb7dc8-7dab-4d39-b3b8-682e26a3a5fd",
   "metadata": {},
   "outputs": [],
   "source": [
    "df['Card Type'].unique()"
   ]
  },
  {
   "cell_type": "code",
   "execution_count": null,
   "id": "5d98bba1-0072-4e60-87b0-dc3cc2e1b7e8",
   "metadata": {},
   "outputs": [],
   "source": [
    "## Card Type Usage\n",
    "sns.countplot(data=df, x='Card Type', order=df['Card Type'].value_counts().index)\n",
    "plt.title(\"Card Type Usage pattern\")\n",
    "plt.xticks(rotation=45)\n",
    "plt.show()"
   ]
  },
  {
   "cell_type": "code",
   "execution_count": null,
   "id": "8e6d8d2a-4ee5-415f-88fc-8040cfb65517",
   "metadata": {},
   "outputs": [],
   "source": []
  },
  {
   "cell_type": "code",
   "execution_count": null,
   "id": "4c5f4116-a0f6-4f27-89c9-09b8e4a7a7e9",
   "metadata": {},
   "outputs": [],
   "source": [
    "df['Exp Type'].unique()"
   ]
  },
  {
   "cell_type": "code",
   "execution_count": null,
   "id": "5e0ab924-c571-4aaa-b061-fcdcd5449c8f",
   "metadata": {},
   "outputs": [],
   "source": [
    "## For what Expense Types are Credit Cards used?\n",
    "sns.countplot(data=df, x='Exp Type', order=df['Exp Type'].value_counts().index)\n",
    "plt.title(\"Expense Type Usage Pattern\")\n",
    "plt.xticks(rotation=45)\n",
    "plt.show()"
   ]
  },
  {
   "cell_type": "code",
   "execution_count": null,
   "id": "7bc92476-d1dc-4809-ab04-8d1e8716bd54",
   "metadata": {},
   "outputs": [],
   "source": []
  },
  {
   "cell_type": "code",
   "execution_count": null,
   "id": "e5a365a1-0d4c-4843-9239-24d2ff5cd350",
   "metadata": {},
   "outputs": [],
   "source": [
    "gender_usage = df.groupby('Gender')['Amount'].sum()\n",
    "gender_usage"
   ]
  },
  {
   "cell_type": "code",
   "execution_count": null,
   "id": "e0d872a2-e871-4c3d-bb44-7bd8f77ac66c",
   "metadata": {},
   "outputs": [],
   "source": [
    "# Specifically Gender wise who uses this cards most often?\n",
    "sns.countplot(data=df, x='Gender', order=df['Gender'].value_counts().index)\n",
    "plt.title(\"Gender wise usage of Credit Card\")\n",
    "plt.xticks(rotation=45)\n",
    "plt.show()"
   ]
  },
  {
   "cell_type": "code",
   "execution_count": null,
   "id": "fd64d59d-599c-4956-9d44-c15028051600",
   "metadata": {},
   "outputs": [],
   "source": []
  },
  {
   "cell_type": "code",
   "execution_count": null,
   "id": "532763e7-aef9-4d93-b241-4b24a6e94abc",
   "metadata": {},
   "outputs": [],
   "source": []
  },
  {
   "cell_type": "markdown",
   "id": "61c2c690-4913-4b8e-904a-117a3ef19514",
   "metadata": {},
   "source": [
    "## Feature Engineering"
   ]
  },
  {
   "cell_type": "code",
   "execution_count": null,
   "id": "351a8973-778f-4c2a-bfad-650104697580",
   "metadata": {},
   "outputs": [],
   "source": [
    "df['Year'] = df['Date'].dt.year\n",
    "df['Month'] = df['Date'].dt.month\n",
    "df['Day'] = df['Date'].dt.day\n",
    "df['Weekday'] = df['Date'].dt.weekday"
   ]
  },
  {
   "cell_type": "code",
   "execution_count": null,
   "id": "6ff83060-54dc-436f-ac06-15810a64242e",
   "metadata": {},
   "outputs": [],
   "source": [
    "df.head()"
   ]
  },
  {
   "cell_type": "code",
   "execution_count": null,
   "id": "847b8bc2-c5cb-49f4-9d4b-4fb6cf72f6be",
   "metadata": {},
   "outputs": [],
   "source": []
  },
  {
   "cell_type": "code",
   "execution_count": null,
   "id": "11311a6b-8333-4bfd-ae01-8c730cab5b5a",
   "metadata": {},
   "outputs": [],
   "source": [
    "df_encoded = pd.get_dummies(df, columns=['City', 'Card Type', 'Exp Type', 'Gender'], drop_first=True)\n",
    "df_encoded.head()"
   ]
  },
  {
   "cell_type": "code",
   "execution_count": null,
   "id": "c02ef2b1-6805-4f7f-bcfd-602935b22f42",
   "metadata": {},
   "outputs": [],
   "source": []
  },
  {
   "cell_type": "code",
   "execution_count": null,
   "id": "f195491e-c6e9-4975-b92e-c95a47c10c12",
   "metadata": {},
   "outputs": [],
   "source": []
  },
  {
   "cell_type": "code",
   "execution_count": null,
   "id": "c6a90736-5581-4dfe-aca0-3739edb845bf",
   "metadata": {},
   "outputs": [],
   "source": []
  },
  {
   "cell_type": "markdown",
   "id": "cf6e341f-65e2-415c-83f5-3bfe067446ff",
   "metadata": {},
   "source": [
    "## Aggregation Metrics"
   ]
  },
  {
   "cell_type": "code",
   "execution_count": null,
   "id": "2b03d805-944a-4eee-bfb3-5f36a8fe3825",
   "metadata": {},
   "outputs": [],
   "source": [
    "# Total spending of each cities\n",
    "total_city_spend = df.groupby('City')['Amount'].sum().sort_values(ascending=False).head(5)\n",
    "total_city_spend"
   ]
  },
  {
   "cell_type": "code",
   "execution_count": null,
   "id": "90db63c1-8ac7-4f85-998b-a2110e043fc4",
   "metadata": {},
   "outputs": [],
   "source": [
    "plt.figure(figsize=(12, 5))\n",
    "total_city_spend.plot(kind='bar', color='green')\n",
    "plt.title(\"Top 5 City Total Spending\")\n",
    "plt.xticks(rotation=45)\n",
    "plt.show()"
   ]
  },
  {
   "cell_type": "code",
   "execution_count": null,
   "id": "625ad4c1-eca6-46d9-b0e9-d3ac6784eb02",
   "metadata": {},
   "outputs": [],
   "source": []
  },
  {
   "cell_type": "code",
   "execution_count": null,
   "id": "32168a36-2a78-43ef-bacf-7e12b42529d5",
   "metadata": {},
   "outputs": [],
   "source": [
    "transaction_card_type = df['Card Type'].value_counts()\n",
    "transaction_card_type"
   ]
  },
  {
   "cell_type": "code",
   "execution_count": null,
   "id": "33167762-9ad2-45d1-b4c2-9b5b2456f589",
   "metadata": {},
   "outputs": [],
   "source": []
  },
  {
   "cell_type": "code",
   "execution_count": null,
   "id": "e2d9cd6a-b8f2-4793-a6d4-f52a0e6af81d",
   "metadata": {},
   "outputs": [],
   "source": [
    "transaction_card_type.plot(kind='bar', color='lightgreen')\n",
    "plt.title(\"Count of Card Type\")\n",
    "plt.show()"
   ]
  },
  {
   "cell_type": "code",
   "execution_count": null,
   "id": "9386c7bc-a2e3-4ea8-a2b3-6eb781932dcf",
   "metadata": {},
   "outputs": [],
   "source": []
  },
  {
   "cell_type": "code",
   "execution_count": null,
   "id": "858a82e1-8ed8-4688-b8e3-fcf9e3fc65be",
   "metadata": {},
   "outputs": [],
   "source": [
    "# Transaction Amount by Card\n",
    "amount_by_card = df.groupby('Card Type')['Amount'].sum().sort_values(ascending=False)\n",
    "amount_by_card"
   ]
  },
  {
   "cell_type": "code",
   "execution_count": null,
   "id": "e70d2d6f-de8e-4bfa-83cc-20de34fbbe13",
   "metadata": {},
   "outputs": [],
   "source": [
    "transaction_card_type.plot(kind='bar', color='purple')\n",
    "plt.title(\"Transaction Amount by Card Type\")\n",
    "plt.xticks(rotation=45)\n",
    "plt.show()"
   ]
  },
  {
   "cell_type": "code",
   "execution_count": null,
   "id": "2a4cd8aa-3037-4dcf-b2e1-dd50c6ec86e3",
   "metadata": {},
   "outputs": [],
   "source": []
  },
  {
   "cell_type": "code",
   "execution_count": null,
   "id": "4c215c7a-776a-41b4-bac8-147f88bb927a",
   "metadata": {},
   "outputs": [],
   "source": []
  },
  {
   "cell_type": "markdown",
   "id": "ab0ff8f7-d58a-4dc8-ad54-03bf366897b5",
   "metadata": {},
   "source": [
    "## Anamoly Detection"
   ]
  },
  {
   "cell_type": "code",
   "execution_count": null,
   "id": "cdd114e6-73f3-4fe9-8cd7-9edbf325c7dc",
   "metadata": {},
   "outputs": [],
   "source": [
    "import numpy as np\n",
    "from scipy import stats"
   ]
  },
  {
   "cell_type": "code",
   "execution_count": null,
   "id": "fb0750c3-89ec-46bd-bf93-7ffb0ca98b6a",
   "metadata": {},
   "outputs": [],
   "source": [
    "# Z-Score for anamoly detection\n",
    "z_score = np.abs(stats.zscore(df['Amount']))\n",
    "df['Anomaly'] = z_score > 3"
   ]
  },
  {
   "cell_type": "code",
   "execution_count": null,
   "id": "8c7985a3-412a-4bd6-bc91-3b2850995826",
   "metadata": {},
   "outputs": [],
   "source": [
    "# Visualize anomalies\n",
    "plt.figure(figsize=(10,5))\n",
    "sns.scatterplot(x=df['Date'], y=df['Amount'], hue=df['Anomaly'])\n",
    "plt.title(\"Transaction Amounts with Anomalies\")\n",
    "plt.show()"
   ]
  },
  {
   "cell_type": "code",
   "execution_count": null,
   "id": "1b833413-59ef-4061-8d89-ba0a0f670876",
   "metadata": {},
   "outputs": [],
   "source": []
  },
  {
   "cell_type": "code",
   "execution_count": null,
   "id": "eb1169b7-0d27-4038-8805-40bbcaca3d3a",
   "metadata": {},
   "outputs": [],
   "source": []
  },
  {
   "cell_type": "markdown",
   "id": "66080fb0-253a-4362-a042-a8610f5e0cc4",
   "metadata": {},
   "source": [
    "## Time Series Forecasting"
   ]
  },
  {
   "cell_type": "code",
   "execution_count": null,
   "id": "61131c8e-a26b-461f-bec8-8f4a9843adff",
   "metadata": {},
   "outputs": [],
   "source": [
    "from statsmodels.tsa.arima.model import ARIMA"
   ]
  },
  {
   "cell_type": "code",
   "execution_count": null,
   "id": "6a2d3135-33ed-4b94-bb7c-abd50157aadb",
   "metadata": {},
   "outputs": [],
   "source": [
    "## Monthly Aggregation\n",
    "ts_data = df.set_index('Date').resample('M')['Amount'].sum()"
   ]
  },
  {
   "cell_type": "code",
   "execution_count": null,
   "id": "e9793493-061a-4f50-ae56-36733fc1fe03",
   "metadata": {},
   "outputs": [],
   "source": [
    "## Fit ARIMA model\n",
    "model = ARIMA(ts_data, order=(1, 1, 1))\n",
    "results = model.fit()"
   ]
  },
  {
   "cell_type": "code",
   "execution_count": null,
   "id": "af90ad84-2c56-4a59-b537-92b64e4535f6",
   "metadata": {},
   "outputs": [],
   "source": [
    "## Forecast next 6 months\n",
    "forecast = results.forecast(steps=6)\n",
    "print(forecast)"
   ]
  },
  {
   "cell_type": "code",
   "execution_count": null,
   "id": "b190b46b-b43f-440d-9e0b-34dd8a369c84",
   "metadata": {},
   "outputs": [],
   "source": []
  },
  {
   "cell_type": "code",
   "execution_count": null,
   "id": "266cc090-7850-4fb5-83c4-69bcdb0e8d3b",
   "metadata": {},
   "outputs": [],
   "source": [
    "ts_data.plot(label='Historical')\n",
    "forecast.plot(label='Forecast', linestyle='--')\n",
    "plt.title(\"ARIMA Forecasting\")\n",
    "plt.legend()\n",
    "plt.show()"
   ]
  },
  {
   "cell_type": "code",
   "execution_count": null,
   "id": "d1ec4a4d-bf8e-41c9-bcc6-ae4b25520cc4",
   "metadata": {},
   "outputs": [],
   "source": []
  },
  {
   "cell_type": "code",
   "execution_count": null,
   "id": "964fd6be-3f19-419b-a5c8-1360654f7e34",
   "metadata": {},
   "outputs": [],
   "source": []
  },
  {
   "cell_type": "markdown",
   "id": "d5b8aad2-42b2-4885-8d16-6f38013479dd",
   "metadata": {},
   "source": [
    "## Machine Learning Model"
   ]
  },
  {
   "cell_type": "code",
   "execution_count": null,
   "id": "f4568540-2bb9-4e37-8e8b-78caa0d649b6",
   "metadata": {},
   "outputs": [],
   "source": [
    "from sklearn.model_selection import train_test_split\n",
    "from sklearn.ensemble import RandomForestClassifier\n",
    "from sklearn.metrics import classification_report"
   ]
  },
  {
   "cell_type": "code",
   "execution_count": null,
   "id": "ca4ba5b4-9e14-4e2a-b412-df4f229cdc56",
   "metadata": {},
   "outputs": [],
   "source": []
  },
  {
   "cell_type": "code",
   "execution_count": null,
   "id": "e78225b0-f218-4f3b-8d4d-1b8c9fe906b9",
   "metadata": {},
   "outputs": [],
   "source": [
    "# Using encoded data\n",
    "# Using encoded data\n",
    "X = df_encoded.drop(columns=['Gender_M', 'Amount', 'Date', 'YearMonth'])\n",
    "y = df_encoded['Gender_M']  # Predicting if Male"
   ]
  },
  {
   "cell_type": "code",
   "execution_count": null,
   "id": "86ab44ca-78a4-4f1c-85ee-ed705145768d",
   "metadata": {},
   "outputs": [],
   "source": []
  },
  {
   "cell_type": "code",
   "execution_count": null,
   "id": "8bcb9a38-2ef1-4515-9c06-3bfbc698d58a",
   "metadata": {},
   "outputs": [],
   "source": [
    "# Train-Test Split\n",
    "X_train, X_test, y_train, y_test = train_test_split(X, y, test_size=0.3, random_state=42)"
   ]
  },
  {
   "cell_type": "code",
   "execution_count": null,
   "id": "d77d2412-d633-4cd2-8d77-9b884201fdce",
   "metadata": {},
   "outputs": [],
   "source": []
  },
  {
   "cell_type": "code",
   "execution_count": null,
   "id": "0201c652-3848-4a2d-8bf8-abb32eb328b8",
   "metadata": {},
   "outputs": [],
   "source": [
    "# Train model\n",
    "clf = RandomForestClassifier()\n",
    "clf.fit(X_train, y_train)"
   ]
  },
  {
   "cell_type": "code",
   "execution_count": null,
   "id": "cb8842fb-af5f-4e0c-827d-b4d4ae131d4e",
   "metadata": {},
   "outputs": [],
   "source": []
  },
  {
   "cell_type": "code",
   "execution_count": null,
   "id": "46ae8237-beef-45ec-bfe3-4a9dc5bfeb0e",
   "metadata": {},
   "outputs": [],
   "source": [
    "# Predictions & Evaluation\n",
    "y_pred = clf.predict(X_test)\n",
    "print(classification_report(y_test, y_pred))"
   ]
  },
  {
   "cell_type": "code",
   "execution_count": null,
   "id": "c4375db5-e66e-47b4-9ae2-90ca7ee30dd9",
   "metadata": {},
   "outputs": [],
   "source": []
  },
  {
   "cell_type": "code",
   "execution_count": null,
   "id": "c601c152-6f96-4361-8212-a8c9b10e5d0b",
   "metadata": {},
   "outputs": [],
   "source": []
  }
 ],
 "metadata": {
  "kernelspec": {
   "display_name": "datasci",
   "language": "python",
   "name": "datasci"
  },
  "language_info": {
   "codemirror_mode": {
    "name": "ipython",
    "version": 3
   },
   "file_extension": ".py",
   "mimetype": "text/x-python",
   "name": "python",
   "nbconvert_exporter": "python",
   "pygments_lexer": "ipython3",
   "version": "3.13.2"
  }
 },
 "nbformat": 4,
 "nbformat_minor": 5
}
